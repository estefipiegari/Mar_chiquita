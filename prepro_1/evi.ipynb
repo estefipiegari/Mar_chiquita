{
 "cells": [
  {
   "cell_type": "code",
   "execution_count": 266,
   "metadata": {},
   "outputs": [],
   "source": [
    "import numpy as np\n",
    "import pandas as pd"
   ]
  },
  {
   "cell_type": "code",
   "execution_count": 267,
   "metadata": {},
   "outputs": [],
   "source": [
    "evi=pd.read_csv('evi_medio.csv',parse_dates=['system:time_start'])"
   ]
  },
  {
   "cell_type": "code",
   "execution_count": 268,
   "metadata": {},
   "outputs": [],
   "source": [
    "evi.rename(columns={'system:time_start': 'Date'}, inplace=True)"
   ]
  },
  {
   "cell_type": "code",
   "execution_count": 269,
   "metadata": {},
   "outputs": [
    {
     "data": {
      "text/html": [
       "<div>\n",
       "<style scoped>\n",
       "    .dataframe tbody tr th:only-of-type {\n",
       "        vertical-align: middle;\n",
       "    }\n",
       "\n",
       "    .dataframe tbody tr th {\n",
       "        vertical-align: top;\n",
       "    }\n",
       "\n",
       "    .dataframe thead th {\n",
       "        text-align: right;\n",
       "    }\n",
       "</style>\n",
       "<table border=\"1\" class=\"dataframe\">\n",
       "  <thead>\n",
       "    <tr style=\"text-align: right;\">\n",
       "      <th></th>\n",
       "      <th>Date</th>\n",
       "      <th>EVI</th>\n",
       "    </tr>\n",
       "  </thead>\n",
       "  <tbody>\n",
       "    <tr>\n",
       "      <th>0</th>\n",
       "      <td>2014-01-01</td>\n",
       "      <td>0.031</td>\n",
       "    </tr>\n",
       "    <tr>\n",
       "      <th>1</th>\n",
       "      <td>2014-01-02</td>\n",
       "      <td>0.090</td>\n",
       "    </tr>\n",
       "    <tr>\n",
       "      <th>2</th>\n",
       "      <td>2014-01-03</td>\n",
       "      <td>0.311</td>\n",
       "    </tr>\n",
       "    <tr>\n",
       "      <th>3</th>\n",
       "      <td>2014-01-04</td>\n",
       "      <td>0.265</td>\n",
       "    </tr>\n",
       "    <tr>\n",
       "      <th>4</th>\n",
       "      <td>2014-01-05</td>\n",
       "      <td>0.205</td>\n",
       "    </tr>\n",
       "  </tbody>\n",
       "</table>\n",
       "</div>"
      ],
      "text/plain": [
       "        Date    EVI\n",
       "0 2014-01-01  0.031\n",
       "1 2014-01-02  0.090\n",
       "2 2014-01-03  0.311\n",
       "3 2014-01-04  0.265\n",
       "4 2014-01-05  0.205"
      ]
     },
     "execution_count": 269,
     "metadata": {},
     "output_type": "execute_result"
    }
   ],
   "source": [
    "evi.head()"
   ]
  },
  {
   "cell_type": "code",
   "execution_count": 270,
   "metadata": {},
   "outputs": [
    {
     "data": {
      "text/plain": [
       "1 days     1963\n",
       "2 days        1\n",
       "10 days       1\n",
       "Name: date_check, dtype: int64"
      ]
     },
     "execution_count": 270,
     "metadata": {},
     "output_type": "execute_result"
    }
   ],
   "source": [
    "evi['date_check'] = evi.Date.diff()\n",
    "evi.date_check.value_counts()"
   ]
  },
  {
   "cell_type": "code",
   "execution_count": 271,
   "metadata": {},
   "outputs": [],
   "source": [
    "LST=pd.read_csv('LST_day.csv',parse_dates=['system:time_start'] ,thousands=r',')"
   ]
  },
  {
   "cell_type": "code",
   "execution_count": 272,
   "metadata": {},
   "outputs": [
    {
     "data": {
      "text/html": [
       "<div>\n",
       "<style scoped>\n",
       "    .dataframe tbody tr th:only-of-type {\n",
       "        vertical-align: middle;\n",
       "    }\n",
       "\n",
       "    .dataframe tbody tr th {\n",
       "        vertical-align: top;\n",
       "    }\n",
       "\n",
       "    .dataframe thead th {\n",
       "        text-align: right;\n",
       "    }\n",
       "</style>\n",
       "<table border=\"1\" class=\"dataframe\">\n",
       "  <thead>\n",
       "    <tr style=\"text-align: right;\">\n",
       "      <th></th>\n",
       "      <th>Date</th>\n",
       "      <th>LST_Day_1km</th>\n",
       "    </tr>\n",
       "  </thead>\n",
       "  <tbody>\n",
       "    <tr>\n",
       "      <th>0</th>\n",
       "      <td>2014-01-01</td>\n",
       "      <td>NaN</td>\n",
       "    </tr>\n",
       "    <tr>\n",
       "      <th>1</th>\n",
       "      <td>2014-01-02</td>\n",
       "      <td>NaN</td>\n",
       "    </tr>\n",
       "    <tr>\n",
       "      <th>2</th>\n",
       "      <td>2014-01-03</td>\n",
       "      <td>NaN</td>\n",
       "    </tr>\n",
       "    <tr>\n",
       "      <th>3</th>\n",
       "      <td>2014-01-04</td>\n",
       "      <td>14903.0</td>\n",
       "    </tr>\n",
       "    <tr>\n",
       "      <th>4</th>\n",
       "      <td>2014-01-05</td>\n",
       "      <td>15185.0</td>\n",
       "    </tr>\n",
       "  </tbody>\n",
       "</table>\n",
       "</div>"
      ],
      "text/plain": [
       "        Date  LST_Day_1km\n",
       "0 2014-01-01          NaN\n",
       "1 2014-01-02          NaN\n",
       "2 2014-01-03          NaN\n",
       "3 2014-01-04      14903.0\n",
       "4 2014-01-05      15185.0"
      ]
     },
     "execution_count": 272,
     "metadata": {},
     "output_type": "execute_result"
    }
   ],
   "source": [
    "LST.rename(columns={'system:time_start': 'Date'}, inplace=True)\n",
    "LST.head()"
   ]
  },
  {
   "cell_type": "code",
   "execution_count": 273,
   "metadata": {},
   "outputs": [
    {
     "data": {
      "text/plain": [
       "1 days     1965\n",
       "10 days       1\n",
       "Name: date_check, dtype: int64"
      ]
     },
     "execution_count": 273,
     "metadata": {},
     "output_type": "execute_result"
    }
   ],
   "source": [
    "LST['date_check'] = LST.Date.diff()\n",
    "LST.date_check.value_counts()"
   ]
  },
  {
   "cell_type": "code",
   "execution_count": 274,
   "metadata": {},
   "outputs": [
    {
     "name": "stdout",
     "output_type": "stream",
     "text": [
      "(261, 3)\n"
     ]
    }
   ],
   "source": [
    "mask = (LST['Date'] >= '2018-04-04') & (LST['Date'] <= '2018-12-20')\n",
    "filtered_LST=LST.loc[mask]\n",
    "print(filtered_LST.shape)\n",
    "LST.set_index('Date',inplace=True)\n",
    "\n",
    "#filtered_LST.dropna(inplace=True)"
   ]
  },
  {
   "cell_type": "code",
   "execution_count": 275,
   "metadata": {},
   "outputs": [
    {
     "name": "stderr",
     "output_type": "stream",
     "text": [
      "/home/usuariousuario/anaconda3/envs/INE/lib/python3.8/site-packages/pandas/core/generic.py:5168: SettingWithCopyWarning: \n",
      "A value is trying to be set on a copy of a slice from a DataFrame.\n",
      "Try using .loc[row_indexer,col_indexer] = value instead\n",
      "\n",
      "See the caveats in the documentation: https://pandas.pydata.org/pandas-docs/stable/user_guide/indexing.html#returning-a-view-versus-a-copy\n",
      "  self[name] = value\n"
     ]
    }
   ],
   "source": [
    "filtered_LST.head()\n",
    "filtered_LST.LST_Day_1km=filtered_LST.LST_Day_1km.astype(float)*0.02\n",
    "filtered_LST.LST_Day_1km= filtered_LST.LST_Day_1km.interpolate(method='spline', order=2)"
   ]
  },
  {
   "cell_type": "code",
   "execution_count": 276,
   "metadata": {},
   "outputs": [
    {
     "data": {
      "text/plain": [
       "[<matplotlib.lines.Line2D at 0x7fdebabf5a30>]"
      ]
     },
     "execution_count": 276,
     "metadata": {},
     "output_type": "execute_result"
    },
    {
     "data": {
      "image/png": "[encoded data removed]",
      "text/plain": [
       "<Figure size 432x288 with 1 Axes>"
      ]
     },
     "metadata": {
      "needs_background": "light"
     },
     "output_type": "display_data"
    }
   ],
   "source": [
    "plt.plot(filtered_LST.Date,filtered_LST.LST_Day_1km)"
   ]
  },
  {
   "cell_type": "code",
   "execution_count": 277,
   "metadata": {},
   "outputs": [
    {
     "name": "stdout",
     "output_type": "stream",
     "text": [
      "LST_Day_1km    1002\n",
      "date_check        1\n",
      "dtype: int64\n"
     ]
    },
    {
     "data": {
      "text/plain": [
       "(1967, 2)"
      ]
     },
     "execution_count": 277,
     "metadata": {},
     "output_type": "execute_result"
    }
   ],
   "source": [
    "print(LST.isnull().sum())\n",
    "LST.shape"
   ]
  },
  {
   "cell_type": "code",
   "execution_count": 278,
   "metadata": {},
   "outputs": [
    {
     "name": "stdout",
     "output_type": "stream",
     "text": [
      "(65, 2)\n"
     ]
    },
    {
     "data": {
      "text/html": [
       "<div>\n",
       "<style scoped>\n",
       "    .dataframe tbody tr th:only-of-type {\n",
       "        vertical-align: middle;\n",
       "    }\n",
       "\n",
       "    .dataframe tbody tr th {\n",
       "        vertical-align: top;\n",
       "    }\n",
       "\n",
       "    .dataframe thead th {\n",
       "        text-align: right;\n",
       "    }\n",
       "</style>\n",
       "<table border=\"1\" class=\"dataframe\">\n",
       "  <thead>\n",
       "    <tr style=\"text-align: right;\">\n",
       "      <th></th>\n",
       "      <th>Lai</th>\n",
       "    </tr>\n",
       "    <tr>\n",
       "      <th>Date</th>\n",
       "      <th></th>\n",
       "    </tr>\n",
       "  </thead>\n",
       "  <tbody>\n",
       "    <tr>\n",
       "      <th>2014-01-01</th>\n",
       "      <td>1.0793</td>\n",
       "    </tr>\n",
       "    <tr>\n",
       "      <th>2014-01-05</th>\n",
       "      <td>1.1585</td>\n",
       "    </tr>\n",
       "    <tr>\n",
       "      <th>2014-01-09</th>\n",
       "      <td>1.0170</td>\n",
       "    </tr>\n",
       "    <tr>\n",
       "      <th>2014-01-13</th>\n",
       "      <td>0.9585</td>\n",
       "    </tr>\n",
       "    <tr>\n",
       "      <th>2014-01-17</th>\n",
       "      <td>1.0585</td>\n",
       "    </tr>\n",
       "  </tbody>\n",
       "</table>\n",
       "</div>"
      ],
      "text/plain": [
       "               Lai\n",
       "Date              \n",
       "2014-01-01  1.0793\n",
       "2014-01-05  1.1585\n",
       "2014-01-09  1.0170\n",
       "2014-01-13  0.9585\n",
       "2014-01-17  1.0585"
      ]
     },
     "execution_count": 278,
     "metadata": {},
     "output_type": "execute_result"
    }
   ],
   "source": [
    "LAI=pd.read_csv('LAI.csv',parse_dates=['system:time_start'])\n",
    "LAI.rename(columns={'system:time_start': 'Date'}, inplace=True)\n",
    "LAI.Lai=LAI.Lai*0.1\n",
    "mask = (LAI['Date'] >= '2018-04-04') & (LAI['Date'] <= '2018-12-20')\n",
    "filtered_LAI=LAI.loc[mask]\n",
    "print(filtered_LAI.shape)\n",
    "LAI.set_index('Date',inplace=True)\n",
    "LAI.head()"
   ]
  },
  {
   "cell_type": "code",
   "execution_count": 279,
   "metadata": {},
   "outputs": [],
   "source": [
    "evi.head()\n",
    "filtered_df.set_index('Date',inplace=True)"
   ]
  },
  {
   "cell_type": "code",
   "execution_count": 280,
   "metadata": {},
   "outputs": [
    {
     "name": "stderr",
     "output_type": "stream",
     "text": [
      "/home/usuariousuario/anaconda3/envs/INE/lib/python3.8/site-packages/pandas/core/indexing.py:670: SettingWithCopyWarning: \n",
      "A value is trying to be set on a copy of a slice from a DataFrame\n",
      "\n",
      "See the caveats in the documentation: https://pandas.pydata.org/pandas-docs/stable/user_guide/indexing.html#returning-a-view-versus-a-copy\n",
      "  iloc._setitem_with_indexer(indexer, value)\n"
     ]
    }
   ],
   "source": [
    "merge=pd.merge(filtered_df,LAI, how='left', left_index=True, right_index=True)\n",
    "merge.head()\n",
    "\n",
    "\n",
    "merge['Lai'] = merge.Lai.interpolate(method='spline', order=2)\n",
    "merge['EVI'] = merge.EVI.interpolate(method='spline', order=2)\n",
    "merge['Lai'].loc[np.isnan(merge['Lai'])]=1.337800"
   ]
  },
  {
   "cell_type": "code",
   "execution_count": 281,
   "metadata": {},
   "outputs": [
    {
     "data": {
      "text/plain": [
       "0"
      ]
     },
     "execution_count": 281,
     "metadata": {},
     "output_type": "execute_result"
    }
   ],
   "source": [
    "np.isnan(merge.EVI).sum()"
   ]
  },
  {
   "cell_type": "code",
   "execution_count": 282,
   "metadata": {},
   "outputs": [
    {
     "data": {
      "text/plain": [
       "[<matplotlib.lines.Line2D at 0x7fdebab5b280>]"
      ]
     },
     "execution_count": 282,
     "metadata": {},
     "output_type": "execute_result"
    },
    {
     "data": {
      "image/png": "[encoded data removed]",
      "text/plain": [
       "<Figure size 432x288 with 1 Axes>"
      ]
     },
     "metadata": {
      "needs_background": "light"
     },
     "output_type": "display_data"
    }
   ],
   "source": [
    "import matplotlib.pyplot as plt\n",
    "\n",
    "plt.plot(evi.Date,evi.EVI)"
   ]
  },
  {
   "cell_type": "code",
   "execution_count": 313,
   "metadata": {},
   "outputs": [
    {
     "data": {
      "text/html": [
       "<div>\n",
       "<style scoped>\n",
       "    .dataframe tbody tr th:only-of-type {\n",
       "        vertical-align: middle;\n",
       "    }\n",
       "\n",
       "    .dataframe tbody tr th {\n",
       "        vertical-align: top;\n",
       "    }\n",
       "\n",
       "    .dataframe thead th {\n",
       "        text-align: right;\n",
       "    }\n",
       "</style>\n",
       "<table border=\"1\" class=\"dataframe\">\n",
       "  <thead>\n",
       "    <tr style=\"text-align: right;\">\n",
       "      <th></th>\n",
       "      <th>fecha</th>\n",
       "      <th>index</th>\n",
       "      <th>Dia juliano_x</th>\n",
       "      <th>U</th>\n",
       "      <th>TA1</th>\n",
       "      <th>HR1</th>\n",
       "      <th>TA3</th>\n",
       "      <th>HR3</th>\n",
       "      <th>TA4</th>\n",
       "      <th>HR4</th>\n",
       "      <th>...</th>\n",
       "      <th>Rho_air</th>\n",
       "      <th>A</th>\n",
       "      <th>one</th>\n",
       "      <th>Ga_ustar</th>\n",
       "      <th>two</th>\n",
       "      <th>three</th>\n",
       "      <th>Rc</th>\n",
       "      <th>Gs</th>\n",
       "      <th>hour</th>\n",
       "      <th>month</th>\n",
       "    </tr>\n",
       "  </thead>\n",
       "  <tbody>\n",
       "    <tr>\n",
       "      <th>0</th>\n",
       "      <td>2018-04-04</td>\n",
       "      <td>3866.5</td>\n",
       "      <td>94.0</td>\n",
       "      <td>5.607250</td>\n",
       "      <td>26.132500</td>\n",
       "      <td>45.342500</td>\n",
       "      <td>26.780000</td>\n",
       "      <td>47.230000</td>\n",
       "      <td>26.207500</td>\n",
       "      <td>46.372500</td>\n",
       "      <td>...</td>\n",
       "      <td>0.096127</td>\n",
       "      <td>294.428934</td>\n",
       "      <td>7.472772</td>\n",
       "      <td>0.049924</td>\n",
       "      <td>0.0</td>\n",
       "      <td>2.651702</td>\n",
       "      <td>-96.461880</td>\n",
       "      <td>0.000992</td>\n",
       "      <td>15.0</td>\n",
       "      <td>4.0</td>\n",
       "    </tr>\n",
       "    <tr>\n",
       "      <th>1</th>\n",
       "      <td>2018-04-05</td>\n",
       "      <td>3952.5</td>\n",
       "      <td>95.0</td>\n",
       "      <td>5.081333</td>\n",
       "      <td>22.771250</td>\n",
       "      <td>58.368750</td>\n",
       "      <td>23.418333</td>\n",
       "      <td>59.645833</td>\n",
       "      <td>22.900833</td>\n",
       "      <td>59.386667</td>\n",
       "      <td>...</td>\n",
       "      <td>0.097225</td>\n",
       "      <td>285.480650</td>\n",
       "      <td>8.073458</td>\n",
       "      <td>0.048432</td>\n",
       "      <td>0.0</td>\n",
       "      <td>2.348445</td>\n",
       "      <td>-80.092329</td>\n",
       "      <td>0.000954</td>\n",
       "      <td>12.5</td>\n",
       "      <td>4.0</td>\n",
       "    </tr>\n",
       "    <tr>\n",
       "      <th>2</th>\n",
       "      <td>2018-04-06</td>\n",
       "      <td>4048.5</td>\n",
       "      <td>96.0</td>\n",
       "      <td>5.330833</td>\n",
       "      <td>15.487917</td>\n",
       "      <td>53.192083</td>\n",
       "      <td>15.729167</td>\n",
       "      <td>53.759583</td>\n",
       "      <td>15.650000</td>\n",
       "      <td>52.702917</td>\n",
       "      <td>...</td>\n",
       "      <td>0.099672</td>\n",
       "      <td>85.871880</td>\n",
       "      <td>3.265257</td>\n",
       "      <td>0.054436</td>\n",
       "      <td>0.0</td>\n",
       "      <td>1.767871</td>\n",
       "      <td>-62.603316</td>\n",
       "      <td>0.002319</td>\n",
       "      <td>12.5</td>\n",
       "      <td>4.0</td>\n",
       "    </tr>\n",
       "    <tr>\n",
       "      <th>3</th>\n",
       "      <td>2018-04-07</td>\n",
       "      <td>4144.5</td>\n",
       "      <td>97.0</td>\n",
       "      <td>0.823292</td>\n",
       "      <td>18.569583</td>\n",
       "      <td>71.067500</td>\n",
       "      <td>19.247917</td>\n",
       "      <td>71.048750</td>\n",
       "      <td>18.759167</td>\n",
       "      <td>71.447083</td>\n",
       "      <td>...</td>\n",
       "      <td>0.098620</td>\n",
       "      <td>252.173661</td>\n",
       "      <td>8.458697</td>\n",
       "      <td>inf</td>\n",
       "      <td>0.0</td>\n",
       "      <td>1.994720</td>\n",
       "      <td>-65.150449</td>\n",
       "      <td>0.000138</td>\n",
       "      <td>12.5</td>\n",
       "      <td>4.0</td>\n",
       "    </tr>\n",
       "    <tr>\n",
       "      <th>4</th>\n",
       "      <td>2018-04-08</td>\n",
       "      <td>4240.5</td>\n",
       "      <td>98.0</td>\n",
       "      <td>1.146875</td>\n",
       "      <td>19.700417</td>\n",
       "      <td>72.800417</td>\n",
       "      <td>20.368333</td>\n",
       "      <td>72.692500</td>\n",
       "      <td>19.860833</td>\n",
       "      <td>73.241667</td>\n",
       "      <td>...</td>\n",
       "      <td>0.098244</td>\n",
       "      <td>223.174580</td>\n",
       "      <td>7.269576</td>\n",
       "      <td>inf</td>\n",
       "      <td>0.0</td>\n",
       "      <td>2.089725</td>\n",
       "      <td>-71.523981</td>\n",
       "      <td>0.000204</td>\n",
       "      <td>12.5</td>\n",
       "      <td>4.0</td>\n",
       "    </tr>\n",
       "  </tbody>\n",
       "</table>\n",
       "<p>5 rows × 54 columns</p>\n",
       "</div>"
      ],
      "text/plain": [
       "       fecha   index  Dia juliano_x         U        TA1        HR1  \\\n",
       "0 2018-04-04  3866.5           94.0  5.607250  26.132500  45.342500   \n",
       "1 2018-04-05  3952.5           95.0  5.081333  22.771250  58.368750   \n",
       "2 2018-04-06  4048.5           96.0  5.330833  15.487917  53.192083   \n",
       "3 2018-04-07  4144.5           97.0  0.823292  18.569583  71.067500   \n",
       "4 2018-04-08  4240.5           98.0  1.146875  19.700417  72.800417   \n",
       "\n",
       "         TA3        HR3        TA4        HR4  ...   Rho_air           A  \\\n",
       "0  26.780000  47.230000  26.207500  46.372500  ...  0.096127  294.428934   \n",
       "1  23.418333  59.645833  22.900833  59.386667  ...  0.097225  285.480650   \n",
       "2  15.729167  53.759583  15.650000  52.702917  ...  0.099672   85.871880   \n",
       "3  19.247917  71.048750  18.759167  71.447083  ...  0.098620  252.173661   \n",
       "4  20.368333  72.692500  19.860833  73.241667  ...  0.098244  223.174580   \n",
       "\n",
       "        one  Ga_ustar  two     three         Rc        Gs  hour  month  \n",
       "0  7.472772  0.049924  0.0  2.651702 -96.461880  0.000992  15.0    4.0  \n",
       "1  8.073458  0.048432  0.0  2.348445 -80.092329  0.000954  12.5    4.0  \n",
       "2  3.265257  0.054436  0.0  1.767871 -62.603316  0.002319  12.5    4.0  \n",
       "3  8.458697       inf  0.0  1.994720 -65.150449  0.000138  12.5    4.0  \n",
       "4  7.269576       inf  0.0  2.089725 -71.523981  0.000204  12.5    4.0  \n",
       "\n",
       "[5 rows x 54 columns]"
      ]
     },
     "execution_count": 313,
     "metadata": {},
     "output_type": "execute_result"
    }
   ],
   "source": [
    "mett=pd.read_csv('datos_diario_mean_merge.csv',parse_dates=['fecha'])\n",
    "mett.head()"
   ]
  },
  {
   "cell_type": "code",
   "execution_count": 318,
   "metadata": {},
   "outputs": [
    {
     "data": {
      "text/html": [
       "<div>\n",
       "<style scoped>\n",
       "    .dataframe tbody tr th:only-of-type {\n",
       "        vertical-align: middle;\n",
       "    }\n",
       "\n",
       "    .dataframe tbody tr th {\n",
       "        vertical-align: top;\n",
       "    }\n",
       "\n",
       "    .dataframe thead th {\n",
       "        text-align: right;\n",
       "    }\n",
       "</style>\n",
       "<table border=\"1\" class=\"dataframe\">\n",
       "  <thead>\n",
       "    <tr style=\"text-align: right;\">\n",
       "      <th></th>\n",
       "      <th>fecha</th>\n",
       "      <th>index</th>\n",
       "      <th>Dia juliano_x</th>\n",
       "      <th>U</th>\n",
       "      <th>TA1</th>\n",
       "      <th>HR1</th>\n",
       "      <th>TA3</th>\n",
       "      <th>HR3</th>\n",
       "      <th>TA4</th>\n",
       "      <th>HR4</th>\n",
       "      <th>...</th>\n",
       "      <th>Rho_air</th>\n",
       "      <th>A</th>\n",
       "      <th>one</th>\n",
       "      <th>Ga_ustar</th>\n",
       "      <th>two</th>\n",
       "      <th>three</th>\n",
       "      <th>Rc</th>\n",
       "      <th>Gs</th>\n",
       "      <th>hour</th>\n",
       "      <th>month</th>\n",
       "    </tr>\n",
       "  </thead>\n",
       "  <tbody>\n",
       "    <tr>\n",
       "      <th>190</th>\n",
       "      <td>2018-12-16</td>\n",
       "      <td>28432.500000</td>\n",
       "      <td>350.0</td>\n",
       "      <td>8.608750</td>\n",
       "      <td>29.682917</td>\n",
       "      <td>29.220000</td>\n",
       "      <td>30.334583</td>\n",
       "      <td>30.581667</td>\n",
       "      <td>29.712083</td>\n",
       "      <td>31.567083</td>\n",
       "      <td>...</td>\n",
       "      <td>0.095005</td>\n",
       "      <td>491.104651</td>\n",
       "      <td>10.974185</td>\n",
       "      <td>0.072621</td>\n",
       "      <td>0.0</td>\n",
       "      <td>3.023487</td>\n",
       "      <td>-28.883902</td>\n",
       "      <td>0.001041</td>\n",
       "      <td>12.500000</td>\n",
       "      <td>12.0</td>\n",
       "    </tr>\n",
       "    <tr>\n",
       "      <th>191</th>\n",
       "      <td>2018-12-17</td>\n",
       "      <td>28528.714286</td>\n",
       "      <td>351.0</td>\n",
       "      <td>8.399476</td>\n",
       "      <td>16.839524</td>\n",
       "      <td>61.213810</td>\n",
       "      <td>17.770476</td>\n",
       "      <td>57.494762</td>\n",
       "      <td>17.034762</td>\n",
       "      <td>61.186190</td>\n",
       "      <td>...</td>\n",
       "      <td>0.099208</td>\n",
       "      <td>482.192530</td>\n",
       "      <td>17.351687</td>\n",
       "      <td>0.073594</td>\n",
       "      <td>0.0</td>\n",
       "      <td>1.864567</td>\n",
       "      <td>-7.840008</td>\n",
       "      <td>0.000695</td>\n",
       "      <td>12.571429</td>\n",
       "      <td>12.0</td>\n",
       "    </tr>\n",
       "    <tr>\n",
       "      <th>192</th>\n",
       "      <td>2018-12-18</td>\n",
       "      <td>28624.500000</td>\n",
       "      <td>352.0</td>\n",
       "      <td>4.221208</td>\n",
       "      <td>18.040833</td>\n",
       "      <td>55.200833</td>\n",
       "      <td>19.285833</td>\n",
       "      <td>51.159583</td>\n",
       "      <td>18.152500</td>\n",
       "      <td>55.644583</td>\n",
       "      <td>...</td>\n",
       "      <td>0.098799</td>\n",
       "      <td>591.668788</td>\n",
       "      <td>20.373144</td>\n",
       "      <td>0.049026</td>\n",
       "      <td>0.0</td>\n",
       "      <td>1.954310</td>\n",
       "      <td>-11.465739</td>\n",
       "      <td>0.000275</td>\n",
       "      <td>12.500000</td>\n",
       "      <td>12.0</td>\n",
       "    </tr>\n",
       "    <tr>\n",
       "      <th>193</th>\n",
       "      <td>2018-12-19</td>\n",
       "      <td>28720.500000</td>\n",
       "      <td>353.0</td>\n",
       "      <td>4.705375</td>\n",
       "      <td>21.953750</td>\n",
       "      <td>58.059167</td>\n",
       "      <td>23.066250</td>\n",
       "      <td>54.607500</td>\n",
       "      <td>22.065417</td>\n",
       "      <td>58.770000</td>\n",
       "      <td>...</td>\n",
       "      <td>0.097488</td>\n",
       "      <td>555.376422</td>\n",
       "      <td>16.468337</td>\n",
       "      <td>0.050916</td>\n",
       "      <td>0.0</td>\n",
       "      <td>2.269986</td>\n",
       "      <td>-17.322351</td>\n",
       "      <td>0.000377</td>\n",
       "      <td>12.500000</td>\n",
       "      <td>12.0</td>\n",
       "    </tr>\n",
       "    <tr>\n",
       "      <th>194</th>\n",
       "      <td>2018-12-20</td>\n",
       "      <td>28816.500000</td>\n",
       "      <td>354.0</td>\n",
       "      <td>6.336917</td>\n",
       "      <td>22.684167</td>\n",
       "      <td>76.272083</td>\n",
       "      <td>23.691250</td>\n",
       "      <td>72.165417</td>\n",
       "      <td>22.835417</td>\n",
       "      <td>76.770000</td>\n",
       "      <td>...</td>\n",
       "      <td>0.097250</td>\n",
       "      <td>442.847814</td>\n",
       "      <td>12.490296</td>\n",
       "      <td>0.063692</td>\n",
       "      <td>0.0</td>\n",
       "      <td>2.336057</td>\n",
       "      <td>-14.889589</td>\n",
       "      <td>0.002278</td>\n",
       "      <td>12.500000</td>\n",
       "      <td>12.0</td>\n",
       "    </tr>\n",
       "  </tbody>\n",
       "</table>\n",
       "<p>5 rows × 54 columns</p>\n",
       "</div>"
      ],
      "text/plain": [
       "         fecha         index  Dia juliano_x         U        TA1        HR1  \\\n",
       "190 2018-12-16  28432.500000          350.0  8.608750  29.682917  29.220000   \n",
       "191 2018-12-17  28528.714286          351.0  8.399476  16.839524  61.213810   \n",
       "192 2018-12-18  28624.500000          352.0  4.221208  18.040833  55.200833   \n",
       "193 2018-12-19  28720.500000          353.0  4.705375  21.953750  58.059167   \n",
       "194 2018-12-20  28816.500000          354.0  6.336917  22.684167  76.272083   \n",
       "\n",
       "           TA3        HR3        TA4        HR4  ...   Rho_air           A  \\\n",
       "190  30.334583  30.581667  29.712083  31.567083  ...  0.095005  491.104651   \n",
       "191  17.770476  57.494762  17.034762  61.186190  ...  0.099208  482.192530   \n",
       "192  19.285833  51.159583  18.152500  55.644583  ...  0.098799  591.668788   \n",
       "193  23.066250  54.607500  22.065417  58.770000  ...  0.097488  555.376422   \n",
       "194  23.691250  72.165417  22.835417  76.770000  ...  0.097250  442.847814   \n",
       "\n",
       "           one  Ga_ustar  two     three         Rc        Gs       hour  month  \n",
       "190  10.974185  0.072621  0.0  3.023487 -28.883902  0.001041  12.500000   12.0  \n",
       "191  17.351687  0.073594  0.0  1.864567  -7.840008  0.000695  12.571429   12.0  \n",
       "192  20.373144  0.049026  0.0  1.954310 -11.465739  0.000275  12.500000   12.0  \n",
       "193  16.468337  0.050916  0.0  2.269986 -17.322351  0.000377  12.500000   12.0  \n",
       "194  12.490296  0.063692  0.0  2.336057 -14.889589  0.002278  12.500000   12.0  \n",
       "\n",
       "[5 rows x 54 columns]"
      ]
     },
     "execution_count": 318,
     "metadata": {},
     "output_type": "execute_result"
    }
   ],
   "source": [
    "mett.tail()"
   ]
  },
  {
   "cell_type": "code",
   "execution_count": 319,
   "metadata": {},
   "outputs": [
    {
     "data": {
      "text/plain": [
       "1 days     184\n",
       "2 days       6\n",
       "3 days       3\n",
       "55 days      1\n",
       "Name: date_check, dtype: int64"
      ]
     },
     "execution_count": 319,
     "metadata": {},
     "output_type": "execute_result"
    }
   ],
   "source": [
    "mett['date_check'] = mett.fecha.diff()\n",
    "mett.date_check.value_counts()"
   ]
  },
  {
   "cell_type": "code",
   "execution_count": 320,
   "metadata": {},
   "outputs": [],
   "source": [
    "mett.set_index('fecha',inplace=True)"
   ]
  },
  {
   "cell_type": "code",
   "execution_count": 321,
   "metadata": {},
   "outputs": [
    {
     "data": {
      "text/html": [
       "<div>\n",
       "<style scoped>\n",
       "    .dataframe tbody tr th:only-of-type {\n",
       "        vertical-align: middle;\n",
       "    }\n",
       "\n",
       "    .dataframe tbody tr th {\n",
       "        vertical-align: top;\n",
       "    }\n",
       "\n",
       "    .dataframe thead th {\n",
       "        text-align: right;\n",
       "    }\n",
       "</style>\n",
       "<table border=\"1\" class=\"dataframe\">\n",
       "  <thead>\n",
       "    <tr style=\"text-align: right;\">\n",
       "      <th></th>\n",
       "      <th>index</th>\n",
       "      <th>Dia juliano_x</th>\n",
       "      <th>U</th>\n",
       "      <th>TA1</th>\n",
       "      <th>HR1</th>\n",
       "      <th>TA3</th>\n",
       "      <th>HR3</th>\n",
       "      <th>TA4</th>\n",
       "      <th>HR4</th>\n",
       "      <th>RG</th>\n",
       "      <th>...</th>\n",
       "      <th>two</th>\n",
       "      <th>three</th>\n",
       "      <th>Rc</th>\n",
       "      <th>Gs</th>\n",
       "      <th>hour</th>\n",
       "      <th>month</th>\n",
       "      <th>date_check_x</th>\n",
       "      <th>EVI</th>\n",
       "      <th>date_check_y</th>\n",
       "      <th>Lai</th>\n",
       "    </tr>\n",
       "    <tr>\n",
       "      <th>fecha</th>\n",
       "      <th></th>\n",
       "      <th></th>\n",
       "      <th></th>\n",
       "      <th></th>\n",
       "      <th></th>\n",
       "      <th></th>\n",
       "      <th></th>\n",
       "      <th></th>\n",
       "      <th></th>\n",
       "      <th></th>\n",
       "      <th></th>\n",
       "      <th></th>\n",
       "      <th></th>\n",
       "      <th></th>\n",
       "      <th></th>\n",
       "      <th></th>\n",
       "      <th></th>\n",
       "      <th></th>\n",
       "      <th></th>\n",
       "      <th></th>\n",
       "      <th></th>\n",
       "    </tr>\n",
       "  </thead>\n",
       "  <tbody>\n",
       "    <tr>\n",
       "      <th>2018-04-04</th>\n",
       "      <td>3866.5</td>\n",
       "      <td>94.0</td>\n",
       "      <td>5.607250</td>\n",
       "      <td>26.132500</td>\n",
       "      <td>45.342500</td>\n",
       "      <td>26.780000</td>\n",
       "      <td>47.230000</td>\n",
       "      <td>26.207500</td>\n",
       "      <td>46.372500</td>\n",
       "      <td>582.950000</td>\n",
       "      <td>...</td>\n",
       "      <td>0.0</td>\n",
       "      <td>2.651702</td>\n",
       "      <td>-96.461880</td>\n",
       "      <td>0.000992</td>\n",
       "      <td>15.0</td>\n",
       "      <td>4.0</td>\n",
       "      <td>NaT</td>\n",
       "      <td>0.327</td>\n",
       "      <td>1 days</td>\n",
       "      <td>1.337800</td>\n",
       "    </tr>\n",
       "    <tr>\n",
       "      <th>2018-04-05</th>\n",
       "      <td>3952.5</td>\n",
       "      <td>95.0</td>\n",
       "      <td>5.081333</td>\n",
       "      <td>22.771250</td>\n",
       "      <td>58.368750</td>\n",
       "      <td>23.418333</td>\n",
       "      <td>59.645833</td>\n",
       "      <td>22.900833</td>\n",
       "      <td>59.386667</td>\n",
       "      <td>533.370833</td>\n",
       "      <td>...</td>\n",
       "      <td>0.0</td>\n",
       "      <td>2.348445</td>\n",
       "      <td>-80.092329</td>\n",
       "      <td>0.000954</td>\n",
       "      <td>12.5</td>\n",
       "      <td>4.0</td>\n",
       "      <td>1 days</td>\n",
       "      <td>0.298</td>\n",
       "      <td>1 days</td>\n",
       "      <td>1.337800</td>\n",
       "    </tr>\n",
       "    <tr>\n",
       "      <th>2018-04-06</th>\n",
       "      <td>4048.5</td>\n",
       "      <td>96.0</td>\n",
       "      <td>5.330833</td>\n",
       "      <td>15.487917</td>\n",
       "      <td>53.192083</td>\n",
       "      <td>15.729167</td>\n",
       "      <td>53.759583</td>\n",
       "      <td>15.650000</td>\n",
       "      <td>52.702917</td>\n",
       "      <td>168.483333</td>\n",
       "      <td>...</td>\n",
       "      <td>0.0</td>\n",
       "      <td>1.767871</td>\n",
       "      <td>-62.603316</td>\n",
       "      <td>0.002319</td>\n",
       "      <td>12.5</td>\n",
       "      <td>4.0</td>\n",
       "      <td>1 days</td>\n",
       "      <td>0.047</td>\n",
       "      <td>1 days</td>\n",
       "      <td>1.337800</td>\n",
       "    </tr>\n",
       "    <tr>\n",
       "      <th>2018-04-07</th>\n",
       "      <td>4144.5</td>\n",
       "      <td>97.0</td>\n",
       "      <td>0.823292</td>\n",
       "      <td>18.569583</td>\n",
       "      <td>71.067500</td>\n",
       "      <td>19.247917</td>\n",
       "      <td>71.048750</td>\n",
       "      <td>18.759167</td>\n",
       "      <td>71.447083</td>\n",
       "      <td>448.608333</td>\n",
       "      <td>...</td>\n",
       "      <td>0.0</td>\n",
       "      <td>1.994720</td>\n",
       "      <td>-65.150449</td>\n",
       "      <td>0.000138</td>\n",
       "      <td>12.5</td>\n",
       "      <td>4.0</td>\n",
       "      <td>1 days</td>\n",
       "      <td>0.198</td>\n",
       "      <td>1 days</td>\n",
       "      <td>1.337800</td>\n",
       "    </tr>\n",
       "    <tr>\n",
       "      <th>2018-04-08</th>\n",
       "      <td>4240.5</td>\n",
       "      <td>98.0</td>\n",
       "      <td>1.146875</td>\n",
       "      <td>19.700417</td>\n",
       "      <td>72.800417</td>\n",
       "      <td>20.368333</td>\n",
       "      <td>72.692500</td>\n",
       "      <td>19.860833</td>\n",
       "      <td>73.241667</td>\n",
       "      <td>425.787500</td>\n",
       "      <td>...</td>\n",
       "      <td>0.0</td>\n",
       "      <td>2.089725</td>\n",
       "      <td>-71.523981</td>\n",
       "      <td>0.000204</td>\n",
       "      <td>12.5</td>\n",
       "      <td>4.0</td>\n",
       "      <td>1 days</td>\n",
       "      <td>0.141</td>\n",
       "      <td>1 days</td>\n",
       "      <td>0.839273</td>\n",
       "    </tr>\n",
       "  </tbody>\n",
       "</table>\n",
       "<p>5 rows × 57 columns</p>\n",
       "</div>"
      ],
      "text/plain": [
       "             index  Dia juliano_x         U        TA1        HR1        TA3  \\\n",
       "fecha                                                                          \n",
       "2018-04-04  3866.5           94.0  5.607250  26.132500  45.342500  26.780000   \n",
       "2018-04-05  3952.5           95.0  5.081333  22.771250  58.368750  23.418333   \n",
       "2018-04-06  4048.5           96.0  5.330833  15.487917  53.192083  15.729167   \n",
       "2018-04-07  4144.5           97.0  0.823292  18.569583  71.067500  19.247917   \n",
       "2018-04-08  4240.5           98.0  1.146875  19.700417  72.800417  20.368333   \n",
       "\n",
       "                  HR3        TA4        HR4          RG  ...  two     three  \\\n",
       "fecha                                                    ...                  \n",
       "2018-04-04  47.230000  26.207500  46.372500  582.950000  ...  0.0  2.651702   \n",
       "2018-04-05  59.645833  22.900833  59.386667  533.370833  ...  0.0  2.348445   \n",
       "2018-04-06  53.759583  15.650000  52.702917  168.483333  ...  0.0  1.767871   \n",
       "2018-04-07  71.048750  18.759167  71.447083  448.608333  ...  0.0  1.994720   \n",
       "2018-04-08  72.692500  19.860833  73.241667  425.787500  ...  0.0  2.089725   \n",
       "\n",
       "                   Rc        Gs  hour  month  date_check_x    EVI  \\\n",
       "fecha                                                               \n",
       "2018-04-04 -96.461880  0.000992  15.0    4.0           NaT  0.327   \n",
       "2018-04-05 -80.092329  0.000954  12.5    4.0        1 days  0.298   \n",
       "2018-04-06 -62.603316  0.002319  12.5    4.0        1 days  0.047   \n",
       "2018-04-07 -65.150449  0.000138  12.5    4.0        1 days  0.198   \n",
       "2018-04-08 -71.523981  0.000204  12.5    4.0        1 days  0.141   \n",
       "\n",
       "            date_check_y       Lai  \n",
       "fecha                               \n",
       "2018-04-04        1 days  1.337800  \n",
       "2018-04-05        1 days  1.337800  \n",
       "2018-04-06        1 days  1.337800  \n",
       "2018-04-07        1 days  1.337800  \n",
       "2018-04-08        1 days  0.839273  \n",
       "\n",
       "[5 rows x 57 columns]"
      ]
     },
     "execution_count": 321,
     "metadata": {},
     "output_type": "execute_result"
    }
   ],
   "source": [
    "data=pd.merge(mett,merge, how='left', left_index=True, right_index=True)\n",
    "data.head()"
   ]
  },
  {
   "cell_type": "code",
   "execution_count": 326,
   "metadata": {},
   "outputs": [],
   "source": [
    "filtered_LST.set_index('Date',inplace=True)"
   ]
  },
  {
   "cell_type": "code",
   "execution_count": 327,
   "metadata": {},
   "outputs": [
    {
     "data": {
      "text/html": [
       "<div>\n",
       "<style scoped>\n",
       "    .dataframe tbody tr th:only-of-type {\n",
       "        vertical-align: middle;\n",
       "    }\n",
       "\n",
       "    .dataframe tbody tr th {\n",
       "        vertical-align: top;\n",
       "    }\n",
       "\n",
       "    .dataframe thead th {\n",
       "        text-align: right;\n",
       "    }\n",
       "</style>\n",
       "<table border=\"1\" class=\"dataframe\">\n",
       "  <thead>\n",
       "    <tr style=\"text-align: right;\">\n",
       "      <th></th>\n",
       "      <th>index</th>\n",
       "      <th>Dia juliano_x</th>\n",
       "      <th>U</th>\n",
       "      <th>TA1</th>\n",
       "      <th>HR1</th>\n",
       "      <th>TA3</th>\n",
       "      <th>HR3</th>\n",
       "      <th>TA4</th>\n",
       "      <th>HR4</th>\n",
       "      <th>RG</th>\n",
       "      <th>...</th>\n",
       "      <th>Rc</th>\n",
       "      <th>Gs</th>\n",
       "      <th>hour</th>\n",
       "      <th>month</th>\n",
       "      <th>date_check_x</th>\n",
       "      <th>EVI</th>\n",
       "      <th>date_check_y</th>\n",
       "      <th>Lai</th>\n",
       "      <th>LST_Day_1km</th>\n",
       "      <th>date_check</th>\n",
       "    </tr>\n",
       "    <tr>\n",
       "      <th>fecha</th>\n",
       "      <th></th>\n",
       "      <th></th>\n",
       "      <th></th>\n",
       "      <th></th>\n",
       "      <th></th>\n",
       "      <th></th>\n",
       "      <th></th>\n",
       "      <th></th>\n",
       "      <th></th>\n",
       "      <th></th>\n",
       "      <th></th>\n",
       "      <th></th>\n",
       "      <th></th>\n",
       "      <th></th>\n",
       "      <th></th>\n",
       "      <th></th>\n",
       "      <th></th>\n",
       "      <th></th>\n",
       "      <th></th>\n",
       "      <th></th>\n",
       "      <th></th>\n",
       "    </tr>\n",
       "  </thead>\n",
       "  <tbody>\n",
       "    <tr>\n",
       "      <th>2018-04-04</th>\n",
       "      <td>3866.5</td>\n",
       "      <td>94.0</td>\n",
       "      <td>5.607250</td>\n",
       "      <td>26.132500</td>\n",
       "      <td>45.342500</td>\n",
       "      <td>26.780000</td>\n",
       "      <td>47.230000</td>\n",
       "      <td>26.207500</td>\n",
       "      <td>46.372500</td>\n",
       "      <td>582.950000</td>\n",
       "      <td>...</td>\n",
       "      <td>-96.461880</td>\n",
       "      <td>0.000992</td>\n",
       "      <td>15.0</td>\n",
       "      <td>4.0</td>\n",
       "      <td>NaT</td>\n",
       "      <td>0.327</td>\n",
       "      <td>1 days</td>\n",
       "      <td>1.337800</td>\n",
       "      <td>296.280000</td>\n",
       "      <td>1 days</td>\n",
       "    </tr>\n",
       "    <tr>\n",
       "      <th>2018-04-05</th>\n",
       "      <td>3952.5</td>\n",
       "      <td>95.0</td>\n",
       "      <td>5.081333</td>\n",
       "      <td>22.771250</td>\n",
       "      <td>58.368750</td>\n",
       "      <td>23.418333</td>\n",
       "      <td>59.645833</td>\n",
       "      <td>22.900833</td>\n",
       "      <td>59.386667</td>\n",
       "      <td>533.370833</td>\n",
       "      <td>...</td>\n",
       "      <td>-80.092329</td>\n",
       "      <td>0.000954</td>\n",
       "      <td>12.5</td>\n",
       "      <td>4.0</td>\n",
       "      <td>1 days</td>\n",
       "      <td>0.298</td>\n",
       "      <td>1 days</td>\n",
       "      <td>1.337800</td>\n",
       "      <td>296.940000</td>\n",
       "      <td>1 days</td>\n",
       "    </tr>\n",
       "    <tr>\n",
       "      <th>2018-04-06</th>\n",
       "      <td>4048.5</td>\n",
       "      <td>96.0</td>\n",
       "      <td>5.330833</td>\n",
       "      <td>15.487917</td>\n",
       "      <td>53.192083</td>\n",
       "      <td>15.729167</td>\n",
       "      <td>53.759583</td>\n",
       "      <td>15.650000</td>\n",
       "      <td>52.702917</td>\n",
       "      <td>168.483333</td>\n",
       "      <td>...</td>\n",
       "      <td>-62.603316</td>\n",
       "      <td>0.002319</td>\n",
       "      <td>12.5</td>\n",
       "      <td>4.0</td>\n",
       "      <td>1 days</td>\n",
       "      <td>0.047</td>\n",
       "      <td>1 days</td>\n",
       "      <td>1.337800</td>\n",
       "      <td>306.800010</td>\n",
       "      <td>1 days</td>\n",
       "    </tr>\n",
       "    <tr>\n",
       "      <th>2018-04-07</th>\n",
       "      <td>4144.5</td>\n",
       "      <td>97.0</td>\n",
       "      <td>0.823292</td>\n",
       "      <td>18.569583</td>\n",
       "      <td>71.067500</td>\n",
       "      <td>19.247917</td>\n",
       "      <td>71.048750</td>\n",
       "      <td>18.759167</td>\n",
       "      <td>71.447083</td>\n",
       "      <td>448.608333</td>\n",
       "      <td>...</td>\n",
       "      <td>-65.150449</td>\n",
       "      <td>0.000138</td>\n",
       "      <td>12.5</td>\n",
       "      <td>4.0</td>\n",
       "      <td>1 days</td>\n",
       "      <td>0.198</td>\n",
       "      <td>1 days</td>\n",
       "      <td>1.337800</td>\n",
       "      <td>312.988542</td>\n",
       "      <td>1 days</td>\n",
       "    </tr>\n",
       "    <tr>\n",
       "      <th>2018-04-08</th>\n",
       "      <td>4240.5</td>\n",
       "      <td>98.0</td>\n",
       "      <td>1.146875</td>\n",
       "      <td>19.700417</td>\n",
       "      <td>72.800417</td>\n",
       "      <td>20.368333</td>\n",
       "      <td>72.692500</td>\n",
       "      <td>19.860833</td>\n",
       "      <td>73.241667</td>\n",
       "      <td>425.787500</td>\n",
       "      <td>...</td>\n",
       "      <td>-71.523981</td>\n",
       "      <td>0.000204</td>\n",
       "      <td>12.5</td>\n",
       "      <td>4.0</td>\n",
       "      <td>1 days</td>\n",
       "      <td>0.141</td>\n",
       "      <td>1 days</td>\n",
       "      <td>0.839273</td>\n",
       "      <td>315.657394</td>\n",
       "      <td>1 days</td>\n",
       "    </tr>\n",
       "  </tbody>\n",
       "</table>\n",
       "<p>5 rows × 59 columns</p>\n",
       "</div>"
      ],
      "text/plain": [
       "             index  Dia juliano_x         U        TA1        HR1        TA3  \\\n",
       "fecha                                                                          \n",
       "2018-04-04  3866.5           94.0  5.607250  26.132500  45.342500  26.780000   \n",
       "2018-04-05  3952.5           95.0  5.081333  22.771250  58.368750  23.418333   \n",
       "2018-04-06  4048.5           96.0  5.330833  15.487917  53.192083  15.729167   \n",
       "2018-04-07  4144.5           97.0  0.823292  18.569583  71.067500  19.247917   \n",
       "2018-04-08  4240.5           98.0  1.146875  19.700417  72.800417  20.368333   \n",
       "\n",
       "                  HR3        TA4        HR4          RG  ...         Rc  \\\n",
       "fecha                                                    ...              \n",
       "2018-04-04  47.230000  26.207500  46.372500  582.950000  ... -96.461880   \n",
       "2018-04-05  59.645833  22.900833  59.386667  533.370833  ... -80.092329   \n",
       "2018-04-06  53.759583  15.650000  52.702917  168.483333  ... -62.603316   \n",
       "2018-04-07  71.048750  18.759167  71.447083  448.608333  ... -65.150449   \n",
       "2018-04-08  72.692500  19.860833  73.241667  425.787500  ... -71.523981   \n",
       "\n",
       "                  Gs  hour  month  date_check_x    EVI  date_check_y  \\\n",
       "fecha                                                                  \n",
       "2018-04-04  0.000992  15.0    4.0           NaT  0.327        1 days   \n",
       "2018-04-05  0.000954  12.5    4.0        1 days  0.298        1 days   \n",
       "2018-04-06  0.002319  12.5    4.0        1 days  0.047        1 days   \n",
       "2018-04-07  0.000138  12.5    4.0        1 days  0.198        1 days   \n",
       "2018-04-08  0.000204  12.5    4.0        1 days  0.141        1 days   \n",
       "\n",
       "                 Lai  LST_Day_1km  date_check  \n",
       "fecha                                          \n",
       "2018-04-04  1.337800   296.280000      1 days  \n",
       "2018-04-05  1.337800   296.940000      1 days  \n",
       "2018-04-06  1.337800   306.800010      1 days  \n",
       "2018-04-07  1.337800   312.988542      1 days  \n",
       "2018-04-08  0.839273   315.657394      1 days  \n",
       "\n",
       "[5 rows x 59 columns]"
      ]
     },
     "execution_count": 327,
     "metadata": {},
     "output_type": "execute_result"
    }
   ],
   "source": [
    "data=pd.merge(data,filtered_LST, how='left', left_index=True, right_index=True)\n",
    "data.head()"
   ]
  },
  {
   "cell_type": "code",
   "execution_count": 285,
   "metadata": {},
   "outputs": [
    {
     "name": "stdout",
     "output_type": "stream",
     "text": [
      "(261, 3)\n"
     ]
    },
    {
     "data": {
      "text/plain": [
       "1 days    261\n",
       "Name: date_check, dtype: int64"
      ]
     },
     "execution_count": 285,
     "metadata": {},
     "output_type": "execute_result"
    }
   ],
   "source": [
    "mask = (evi['Date'] >= '2018-04-04') & (evi['Date'] <= '2018-12-20')\n",
    "filtered_df=evi.loc[mask]\n",
    "print(filtered_df.shape)\n",
    "filtered_df.date_check.value_counts()"
   ]
  },
  {
   "cell_type": "code",
   "execution_count": 286,
   "metadata": {},
   "outputs": [
    {
     "name": "stderr",
     "output_type": "stream",
     "text": [
      "<ipython-input-286-e94ccd8d0e34>:2: SettingWithCopyWarning: \n",
      "A value is trying to be set on a copy of a slice from a DataFrame.\n",
      "Try using .loc[row_indexer,col_indexer] = value instead\n",
      "\n",
      "See the caveats in the documentation: https://pandas.pydata.org/pandas-docs/stable/user_guide/indexing.html#returning-a-view-versus-a-copy\n",
      "  filtered_df['month'] = filtered_df.Date.dt.month_name()\n"
     ]
    }
   ],
   "source": [
    "# Creating new features\n",
    "filtered_df['month'] = filtered_df.Date.dt.month_name()"
   ]
  },
  {
   "cell_type": "code",
   "execution_count": 287,
   "metadata": {},
   "outputs": [
    {
     "data": {
      "text/plain": [
       "<AxesSubplot:xlabel='month', ylabel='EVI'>"
      ]
     },
     "execution_count": 287,
     "metadata": {},
     "output_type": "execute_result"
    },
    {
     "data": {
      "image/png": "[encoded data removed]",
      "text/plain": [
       "<Figure size 432x288 with 1 Axes>"
      ]
     },
     "metadata": {
      "needs_background": "light"
     },
     "output_type": "display_data"
    }
   ],
   "source": [
    "import seaborn as sns\n",
    "\n",
    "sns.lineplot(x='month',y='EVI',data=filtered_df, sort=False)"
   ]
  },
  {
   "cell_type": "code",
   "execution_count": 16,
   "metadata": {},
   "outputs": [
    {
     "data": {
      "text/plain": [
       "<AxesSubplot:xlabel='month', ylabel='LvE[W/m2]      '>"
      ]
     },
     "execution_count": 16,
     "metadata": {},
     "output_type": "execute_result"
    },
    {
     "data": {
      "image/png": "[encoded data removed]",
      "text/plain": [
       "<Figure size 432x288 with 1 Axes>"
      ]
     },
     "metadata": {
      "needs_background": "light"
     },
     "output_type": "display_data"
    }
   ],
   "source": [
    "sns.lineplot(x='month',y='LvE[W/m2]      ',data=eddy, sort=False)"
   ]
  },
  {
   "cell_type": "code",
   "execution_count": 18,
   "metadata": {},
   "outputs": [
    {
     "data": {
      "text/plain": [
       "<matplotlib.collections.PathCollection at 0x7fdebd219850>"
      ]
     },
     "execution_count": 18,
     "metadata": {},
     "output_type": "execute_result"
    },
    {
     "data": {
      "image/png": "[encoded data removed]",
      "text/plain": [
       "<Figure size 432x288 with 1 Axes>"
      ]
     },
     "metadata": {
      "needs_background": "light"
     },
     "output_type": "display_data"
    }
   ],
   "source": [
    "plt.scatter(filtered_df.EVI,eddy['LvE[W/m2]      '])"
   ]
  },
  {
   "cell_type": "code",
   "execution_count": 330,
   "metadata": {},
   "outputs": [],
   "source": [
    "data['month'] = data.index.month_name()"
   ]
  },
  {
   "cell_type": "code",
   "execution_count": 331,
   "metadata": {},
   "outputs": [
    {
     "data": {
      "text/plain": [
       "<AxesSubplot:xlabel='month', ylabel='Gs'>"
      ]
     },
     "execution_count": 331,
     "metadata": {},
     "output_type": "execute_result"
    },
    {
     "data": {
      "image/png": "[encoded data removed]",
      "text/plain": [
       "<Figure size 432x288 with 1 Axes>"
      ]
     },
     "metadata": {
      "needs_background": "light"
     },
     "output_type": "display_data"
    }
   ],
   "source": [
    "sns.lineplot(x='month',y='Gs',data=data, sort=False)"
   ]
  },
  {
   "cell_type": "code",
   "execution_count": 332,
   "metadata": {},
   "outputs": [
    {
     "data": {
      "text/plain": [
       "<AxesSubplot:xlabel='month', ylabel='EVI'>"
      ]
     },
     "execution_count": 332,
     "metadata": {},
     "output_type": "execute_result"
    },
    {
     "data": {
      "image/png": "[encoded data removed]",
      "text/plain": [
       "<Figure size 432x288 with 1 Axes>"
      ]
     },
     "metadata": {
      "needs_background": "light"
     },
     "output_type": "display_data"
    }
   ],
   "source": [
    "sns.lineplot(x='month',y='EVI',data=data, sort=False)"
   ]
  },
  {
   "cell_type": "code",
   "execution_count": 333,
   "metadata": {},
   "outputs": [
    {
     "data": {
      "text/plain": [
       "<AxesSubplot:xlabel='month', ylabel='Lai'>"
      ]
     },
     "execution_count": 333,
     "metadata": {},
     "output_type": "execute_result"
    },
    {
     "data": {
      "image/png": "[encoded data removed]",
      "text/plain": [
       "<Figure size 432x288 with 1 Axes>"
      ]
     },
     "metadata": {
      "needs_background": "light"
     },
     "output_type": "display_data"
    }
   ],
   "source": [
    "sns.lineplot(x='month',y='Lai',data=data, sort=False)"
   ]
  },
  {
   "cell_type": "code",
   "execution_count": 334,
   "metadata": {},
   "outputs": [
    {
     "data": {
      "text/plain": [
       "(0.0, 15.0)"
      ]
     },
     "execution_count": 334,
     "metadata": {},
     "output_type": "execute_result"
    },
    {
     "data": {
      "image/png": "[encoded data removed]",
      "text/plain": [
       "<Figure size 432x288 with 1 Axes>"
      ]
     },
     "metadata": {
      "needs_background": "light"
     },
     "output_type": "display_data"
    }
   ],
   "source": [
    "plt.scatter(data.TA1,data.Gs*1000)\n",
    "plt.ylim(0,15)\n",
    "#plt.xlim(0,200)"
   ]
  },
  {
   "cell_type": "code",
   "execution_count": 328,
   "metadata": {},
   "outputs": [
    {
     "data": {
      "text/plain": [
       "(0.0, 15.0)"
      ]
     },
     "execution_count": 328,
     "metadata": {},
     "output_type": "execute_result"
    },
    {
     "data": {
      "image/png": "[encoded data removed]",
      "text/plain": [
       "<Figure size 432x288 with 1 Axes>"
      ]
     },
     "metadata": {
      "needs_background": "light"
     },
     "output_type": "display_data"
    }
   ],
   "source": [
    "plt.scatter(data.LST_Day_1km,data.Gs*1000)\n",
    "plt.ylim(0,15)"
   ]
  },
  {
   "cell_type": "code",
   "execution_count": 335,
   "metadata": {},
   "outputs": [
    {
     "data": {
      "text/plain": [
       "(0.0, 200.0)"
      ]
     },
     "execution_count": 335,
     "metadata": {},
     "output_type": "execute_result"
    },
    {
     "data": {
      "image/png": "[encoded data removed]",
      "text/plain": [
       "<Figure size 432x288 with 1 Axes>"
      ]
     },
     "metadata": {
      "needs_background": "light"
     },
     "output_type": "display_data"
    }
   ],
   "source": [
    "plt.scatter(data['LvE[W/m2]      '],data.Gs*1000)\n",
    "plt.ylim(0,15)\n",
    "plt.xlim(0,200)"
   ]
  },
  {
   "cell_type": "code",
   "execution_count": 324,
   "metadata": {},
   "outputs": [
    {
     "data": {
      "text/plain": [
       "(0.0, 1.0)"
      ]
     },
     "execution_count": 324,
     "metadata": {},
     "output_type": "execute_result"
    },
    {
     "data": {
      "image/png": "[encoded data removed]",
      "text/plain": [
       "<Figure size 432x288 with 1 Axes>"
      ]
     },
     "metadata": {
      "needs_background": "light"
     },
     "output_type": "display_data"
    },
    {
     "data": {
      "image/png": "[encoded data removed]",
      "text/plain": [
       "<Figure size 432x288 with 1 Axes>"
      ]
     },
     "metadata": {
      "needs_background": "light"
     },
     "output_type": "display_data"
    }
   ],
   "source": [
    "plt.scatter(data.EVI,data.Gs*1000)\n",
    "plt.ylim(0, 15)\n",
    "plt.xlim(0,1)\n",
    "\n",
    "plt.figure()\n",
    "plt.scatter(data.Lai,data.Gs*1000)\n",
    "plt.ylim(0, 15)\n",
    "plt.xlim(0,1)"
   ]
  },
  {
   "cell_type": "code",
   "execution_count": 336,
   "metadata": {},
   "outputs": [
    {
     "data": {
      "text/plain": [
       "Index(['index', 'Dia juliano_x', 'U', 'TA1', 'HR1', 'TA3', 'HR3', 'TA4', 'HR4',\n",
       "       'RG', 'e0', 'ea', 'Ra', 'Rnc', 'RS0', 'Tmin', 'Tmax', 'Rnl',\n",
       "       'u[m/s]         ', 'Ts[degC]       ', 'a[g/m3]        ',\n",
       "       'p_ref[hPa]     ', 'Var[u]         ', 'Var[Ts]        ',\n",
       "       'Var[a]         ', 'dir[deg]       ', 'ustar[m/s]     ',\n",
       "       'HTs[W/m2]      ', 'LvE[W/m2]      ', 'z/L            ',\n",
       "       'z/L-virt       ', 'Flag(ustar)    ', 'Flag(HTs)      ',\n",
       "       'Flag(LvE)      ', ' r_err_ustar[%]', '   r_err_HTs[%]',\n",
       "       '   r_err_LvE[%]', 'T_min', 'T_max', 'es', 'Delta', 'e', 'epsilon',\n",
       "       'Rho_air', 'A', 'one', 'Ga_ustar', 'two', 'three', 'Rc', 'Gs', 'hour',\n",
       "       'month', 'date_check_x', 'EVI', 'date_check_y', 'Lai', 'LST_Day_1km',\n",
       "       'date_check'],\n",
       "      dtype='object')"
      ]
     },
     "execution_count": 336,
     "metadata": {},
     "output_type": "execute_result"
    }
   ],
   "source": [
    "data.columns"
   ]
  },
  {
   "cell_type": "code",
   "execution_count": 363,
   "metadata": {},
   "outputs": [],
   "source": [
    "X = data[['TA1','U','Rnl','EVI','Lai','LST_Day_1km','HR1','Ts[degC]       ']].loc[(data.Gs>0)]\n",
    "y = data.Gs.loc[data.Gs>0 ]*1000"
   ]
  },
  {
   "cell_type": "code",
   "execution_count": 364,
   "metadata": {},
   "outputs": [],
   "source": [
    "from sklearn.model_selection import train_test_split\n",
    "\n",
    "X_train, X_test, y_train, y_test = train_test_split(X, y, test_size=0.2, random_state=0)"
   ]
  },
  {
   "cell_type": "code",
   "execution_count": 365,
   "metadata": {},
   "outputs": [],
   "source": [
    "from sklearn.preprocessing import StandardScaler\n",
    "\n",
    "sc = StandardScaler()\n",
    "X_train = sc.fit_transform(X_train)\n",
    "X_test = sc.transform(X_test)"
   ]
  },
  {
   "cell_type": "code",
   "execution_count": 366,
   "metadata": {},
   "outputs": [],
   "source": [
    "from sklearn.ensemble import RandomForestRegressor\n",
    "\n",
    "regressor = RandomForestRegressor(n_estimators=20, random_state=0)\n",
    "regressor.fit(X_train, y_train)\n",
    "y_pred = regressor.predict(X_test)"
   ]
  },
  {
   "cell_type": "code",
   "execution_count": 367,
   "metadata": {},
   "outputs": [
    {
     "name": "stdout",
     "output_type": "stream",
     "text": [
      "Mean Absolute Error: 0.8125405511120822\n",
      "Mean Squared Error: 3.7648425321314547\n",
      "Root Mean Squared Error: 1.940320213813033\n"
     ]
    }
   ],
   "source": [
    "from sklearn import metrics\n",
    "\n",
    "print('Mean Absolute Error:', metrics.mean_absolute_error(y_test, y_pred))\n",
    "print('Mean Squared Error:', metrics.mean_squared_error(y_test, y_pred))\n",
    "print('Root Mean Squared Error:', np.sqrt(metrics.mean_squared_error(y_test, y_pred)))"
   ]
  },
  {
   "cell_type": "code",
   "execution_count": 368,
   "metadata": {},
   "outputs": [
    {
     "data": {
      "text/plain": [
       "<matplotlib.collections.PathCollection at 0x7fdeba966af0>"
      ]
     },
     "execution_count": 368,
     "metadata": {},
     "output_type": "execute_result"
    },
    {
     "data": {
      "image/png": "[encoded data removed]",
      "text/plain": [
       "<Figure size 432x288 with 1 Axes>"
      ]
     },
     "metadata": {
      "needs_background": "light"
     },
     "output_type": "display_data"
    }
   ],
   "source": [
    "plt.scatter(y_test,y_pred)"
   ]
  }
 ],
 "metadata": {
  "kernelspec": {
   "display_name": "Python 3",
   "language": "python",
   "name": "python3"
  },
  "language_info": {
   "codemirror_mode": {
    "name": "ipython",
    "version": 3
   },
   "file_extension": ".py",
   "mimetype": "text/x-python",
   "name": "python",
   "nbconvert_exporter": "python",
   "pygments_lexer": "ipython3",
   "version": "3.8.5"
  }
 },
 "nbformat": 4,
 "nbformat_minor": 4
}
